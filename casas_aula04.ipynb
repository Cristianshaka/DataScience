{
  "nbformat": 4,
  "nbformat_minor": 0,
  "metadata": {
    "colab": {
      "provenance": [],
      "collapsed_sections": [
        "a-Dj9itDU059"
      ],
      "include_colab_link": true
    },
    "kernelspec": {
      "name": "python3",
      "display_name": "Python 3"
    },
    "language_info": {
      "name": "python"
    }
  },
  "cells": [
    {
      "cell_type": "markdown",
      "metadata": {
        "id": "view-in-github",
        "colab_type": "text"
      },
      "source": [
        "<a href=\"https://colab.research.google.com/github/Cristianshaka/DataScience/blob/main/casas_aula04.ipynb\" target=\"_parent\"><img src=\"https://colab.research.google.com/assets/colab-badge.svg\" alt=\"Open In Colab\"/></a>"
      ]
    },
    {
      "cell_type": "markdown",
      "source": [
        "# Bibliotecas"
      ],
      "metadata": {
        "id": "kzQsWp0ZLd55"
      }
    },
    {
      "cell_type": "code",
      "execution_count": null,
      "metadata": {
        "id": "Yn0LLSv-TdYM"
      },
      "outputs": [],
      "source": [
        "import pandas as pd\n",
        "import numpy as np\n",
        "import matplotlib.pyplot as plt\n",
        "import seaborn as sns"
      ]
    },
    {
      "cell_type": "markdown",
      "source": [
        "> Importando o DataSet"
      ],
      "metadata": {
        "id": "ISnJXF0JLnS_"
      }
    },
    {
      "cell_type": "markdown",
      "source": [
        "[Link para o DataSet](https://www.kaggle.com/datasets/rubenssjr/brasilian-houses-to-rent/data)"
      ],
      "metadata": {
        "id": "DYgcAuSKLqBH"
      }
    },
    {
      "cell_type": "code",
      "source": [
        "from google import colab\n",
        "colab.drive.mount('/content/drive')"
      ],
      "metadata": {
        "id": "vxYwJyQ3LxGv"
      },
      "execution_count": null,
      "outputs": []
    },
    {
      "cell_type": "code",
      "source": [
        "df = pd.read_csv('') # Cole o coaminho para seu dataframe"
      ],
      "metadata": {
        "id": "_Y50J46oLm-n"
      },
      "execution_count": null,
      "outputs": []
    },
    {
      "cell_type": "markdown",
      "source": [
        "# Pré-Processamemto"
      ],
      "metadata": {
        "id": "l_MwAieTcR3C"
      }
    },
    {
      "cell_type": "markdown",
      "source": [
        "**Etapas:**\n",
        "- 1 - Visualização\n",
        "- 2 - Renomeação de Colunas\n",
        "- 3 - Imputação(Valores Faltando)\n",
        "- 4 - Tratamento de Textos\n",
        "- 5 - Normalização/Padronização"
      ],
      "metadata": {
        "id": "uK5XbRS1UJNo"
      }
    },
    {
      "cell_type": "markdown",
      "source": [
        "## Visualização"
      ],
      "metadata": {
        "id": "a-Dj9itDU059"
      }
    },
    {
      "cell_type": "code",
      "execution_count": null,
      "metadata": {
        "id": "nk24MdDDRaCm"
      },
      "outputs": [],
      "source": [
        "# Informações gerais sobre o DataFrame\n",
        "df.info()"
      ]
    },
    {
      "cell_type": "code",
      "source": [
        "# Resumo estatístico das colunas numéricas\n",
        "df.describe()"
      ],
      "metadata": {
        "id": "Tfevih8JVzSc"
      },
      "execution_count": null,
      "outputs": []
    },
    {
      "cell_type": "code",
      "source": [
        "# Verificar valores ausentes\n",
        "df.isnull().sum()"
      ],
      "metadata": {
        "id": "wdluYeSLVz9-"
      },
      "execution_count": null,
      "outputs": []
    },
    {
      "cell_type": "markdown",
      "source": [
        "## Imputação"
      ],
      "metadata": {
        "id": "3j-Mk1asVEDC"
      }
    },
    {
      "cell_type": "markdown",
      "source": [
        "Decisões:\n",
        "- Média\n",
        "  - Desvio Padrão\n",
        "- Moda\n",
        "- Mediana\n"
      ],
      "metadata": {
        "id": "BREQoFBiVc8u"
      }
    },
    {
      "cell_type": "markdown",
      "source": [
        "- Remoção Total: Remoção de todos os valores faltantes, importante para colunas inuteis."
      ],
      "metadata": {
        "id": "nGGIz7FCVi2R"
      }
    },
    {
      "cell_type": "code",
      "source": [
        "df['floor'].value_counts()"
      ],
      "metadata": {
        "id": "1Mz4hdKTMgDA"
      },
      "execution_count": null,
      "outputs": []
    },
    {
      "cell_type": "code",
      "source": [
        "# Trocando string por null\n",
        "df['floor'] = df['floor'].replace('-', np.nan)\n",
        "\n",
        "# Decisão de remover valores faltantes\n",
        "df.dropna(subset=['floor'], inplace=True)\n",
        "\n",
        "df.isnull().sum()"
      ],
      "metadata": {
        "id": "DJyrss4wVF-8"
      },
      "execution_count": null,
      "outputs": []
    },
    {
      "cell_type": "code",
      "source": [
        "df.info()"
      ],
      "metadata": {
        "id": "YlZTICI8bwG2"
      },
      "execution_count": null,
      "outputs": []
    },
    {
      "cell_type": "code",
      "source": [
        "df.head()"
      ],
      "metadata": {
        "id": "uPOp819RaED3"
      },
      "execution_count": null,
      "outputs": []
    },
    {
      "cell_type": "markdown",
      "source": [
        "## Tratando colunas"
      ],
      "metadata": {
        "id": "lZ2qtXy8OrZZ"
      }
    },
    {
      "cell_type": "markdown",
      "source": [
        "> Em alguns casos, por questões de praticidade, a renomeação de colunas pode ser uma etapa a se considerar no pré-processamento"
      ],
      "metadata": {
        "id": "KG8YlXGyOt8g"
      }
    },
    {
      "cell_type": "markdown",
      "source": [
        "Por exemplo, é muito mais simples escrever `total` ao invés de `total (R$)`"
      ],
      "metadata": {
        "id": "UXvdX2F9PBBr"
      }
    },
    {
      "cell_type": "code",
      "source": [
        "import re # biblioteca para uso de regex\n",
        "\n",
        "# Façam uma lista com as colunas a serem removido os elementos '(R$)'\n",
        "colunas = []\n",
        "\n",
        "for coluna in colunas:\n",
        "    novo_nome = re.sub(r'[R$()]+', '', coluna)\n",
        "    df.rename(columns={coluna : novo_nome}, inplace=True)\n",
        "\n",
        "# Imprima as colunas\n"
      ],
      "metadata": {
        "id": "R9XIZ4hLPAhT"
      },
      "execution_count": null,
      "outputs": []
    },
    {
      "cell_type": "markdown",
      "source": [
        "- Normalmente utilizamos regex para remoção de caracteres específicos em uma string."
      ],
      "metadata": {
        "id": "2Co6DiNxPXSM"
      }
    },
    {
      "cell_type": "markdown",
      "source": [
        "- `[]` informa o conjunto de caracteres a ser substituido\n",
        "- `R$()` são os nossos alvos\n",
        "- `+` informa a substituição de uma ou mais ocorrências"
      ],
      "metadata": {
        "id": "vqjJPa6qPl61"
      }
    },
    {
      "cell_type": "code",
      "source": [
        "# Imprima o resultado com a cabeça do DataFrame\n"
      ],
      "metadata": {
        "id": "qoZApH9HQQG2"
      },
      "execution_count": null,
      "outputs": []
    },
    {
      "cell_type": "markdown",
      "source": [
        "## Lidando com texto"
      ],
      "metadata": {
        "id": "pv0HbWWsbRzq"
      }
    },
    {
      "cell_type": "markdown",
      "source": [
        "> Por que categorizar dados?"
      ],
      "metadata": {
        "id": "_ZeRz3GpccRk"
      }
    },
    {
      "cell_type": "markdown",
      "source": [
        "A técnica mais usada é chamada **Label Encoding**, esta técninca envolve categorizar valores não numéricos, por exemplo:\n",
        "\n",
        "`homem = 1` e `mulher = 0`"
      ],
      "metadata": {
        "id": "sZvU8_njNFIt"
      }
    },
    {
      "cell_type": "code",
      "source": [
        "# identificação da coluna\n",
        "df[['animal', 'furniture']].value_counts()"
      ],
      "metadata": {
        "id": "_wUfvGSiYwF8"
      },
      "execution_count": null,
      "outputs": []
    },
    {
      "cell_type": "code",
      "source": [
        "# Categorozação da coluna animais e furniture\n",
        "df['animal'].replace({'acept': 1, 'not acept': 0}, inplace=True)\n",
        "\n",
        "# Faça o mesmo com a coluna 'furniture'\n"
      ],
      "metadata": {
        "id": "oj-qvchZb9qB"
      },
      "execution_count": null,
      "outputs": []
    },
    {
      "cell_type": "markdown",
      "source": [
        "- 0 : Não\n",
        "- 1 : Sim"
      ],
      "metadata": {
        "id": "YPW-hi6OcsVU"
      }
    },
    {
      "cell_type": "markdown",
      "source": [
        "- Transformando coluna floor em inteiro"
      ],
      "metadata": {
        "id": "KPTr_tjO8xap"
      }
    },
    {
      "cell_type": "code",
      "source": [
        "# Complete o código abaixo transformando a coluna 'floor' em númerico\n",
        ".astype(int)"
      ],
      "metadata": {
        "id": "c-w82xVk9gPB"
      },
      "execution_count": null,
      "outputs": []
    },
    {
      "cell_type": "code",
      "source": [
        "df.dtypes"
      ],
      "metadata": {
        "id": "v3PxmdomcmGx"
      },
      "execution_count": null,
      "outputs": []
    },
    {
      "cell_type": "code",
      "source": [
        "df.head()"
      ],
      "metadata": {
        "id": "tPSrR-HccpOb"
      },
      "execution_count": null,
      "outputs": []
    },
    {
      "cell_type": "markdown",
      "source": [
        "# Exportando o DataFrame"
      ],
      "metadata": {
        "id": "cEaqtNFrQsZ5"
      }
    },
    {
      "cell_type": "markdown",
      "source": [
        "> Com o DataFrame limpo, agora podemos exportar o mesmo para as etapas de visualização e modelagem."
      ],
      "metadata": {
        "id": "gRX5jtPwQwLB"
      }
    },
    {
      "cell_type": "code",
      "source": [
        "df.to_csv('casas_limpo.csv', index=False)"
      ],
      "metadata": {
        "id": "9YxaZsm7Q_uq"
      },
      "execution_count": null,
      "outputs": []
    }
  ]
}